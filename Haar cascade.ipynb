{
 "cells": [
  {
   "cell_type": "code",
   "execution_count": null,
   "id": "0ce7133b-ffd4-49ee-a3da-c8f363f5c90c",
   "metadata": {},
   "outputs": [],
   "source": [
    "import cv2\n",
    "\n",
    "img = cv2.imread(\"C:/Users/opste/Downloads/my_group.jpg\")\n",
    "\n",
    "gray_img = cv2.cvtColor(img, cv2.COLOR_BGR2GRAY)\n",
    "\n",
    "face_cascade = cv2.CascadeClassifier(\"C:/Users/opste/Downloads/haarcascade_frontalface_default.xml\")\n",
    "eye_cascade = cv2.CascadeClassifier(\"C:/Users/opste/Downloads/haarcascade_eye.xml\") \n",
    "\n",
    "# Applying the face detection method on the grayscale image\n",
    "faces_rect = face_cascade.detectMultiScale(gray_img, 1.1, 9)\n",
    "\n",
    "# Iterating through rectangles of detected faces\n",
    "for (x, y, w, h) in faces_rect:\n",
    "    cv2.rectangle(img, (x, y), (x+w, y+h), (0, 255, 0), 2)  \n",
    "    cv2.putText(img, \"Face\", (x, y-10), cv2.FONT_HERSHEY_SIMPLEX, 0.5, (0, 255, 0), 2) \n",
    "\n",
    "    face_roi_gray = gray_img[y:y+h, x:x+w]\n",
    "    face_roi_color = img[y:y+h, x:x+w]\n",
    "\n",
    "    eyes = eye_cascade.detectMultiScale(face_roi_gray, 1.1, 10)\n",
    "    for (ex, ey, ew, eh) in eyes:\n",
    "        cv2.rectangle(face_roi_color, (ex, ey), (ex+ew, ey+eh), (255, 0, 0), 2) \n",
    "        cv2.putText(face_roi_color, \"Eye\", (ex, ey-5), cv2.FONT_HERSHEY_SIMPLEX, 0.4, (255, 0, 0), 1)  \n",
    "\n",
    "cv2.imshow('Detected faces and eyes', img)\n",
    "\n",
    "cv2.waitKey(0)\n",
    "\n"
   ]
  }
 ],
 "metadata": {
  "kernelspec": {
   "display_name": "Python 3 (ipykernel)",
   "language": "python",
   "name": "python3"
  },
  "language_info": {
   "codemirror_mode": {
    "name": "ipython",
    "version": 3
   },
   "file_extension": ".py",
   "mimetype": "text/x-python",
   "name": "python",
   "nbconvert_exporter": "python",
   "pygments_lexer": "ipython3",
   "version": "3.12.3"
  }
 },
 "nbformat": 4,
 "nbformat_minor": 5
}
