{
 "cells": [
  {
   "cell_type": "code",
   "execution_count": null,
   "id": "497efe8c-676e-4fb8-ad7b-d2b4544b643b",
   "metadata": {},
   "outputs": [],
   "source": [
    "import cv2\n",
    "\n",
    "img = cv2.imread(\"C:/Users/opste/Downloads/my_group.jpg\")\n",
    "gray_img = cv2.cvtColor(img, cv2.COLOR_BGR2GRAY)\n",
    "\n",
    "face_cascade = cv2.CascadeClassifier(\"C:/Users/opste/Downloads/haarcascade_frontalface_default.xml\")\n",
    "eye_cascade = cv2.CascadeClassifier(\"C:/Users/opste/Downloads/haarcascade_eye.xml\")\n",
    "nose_cascade = cv2.CascadeClassifier(\"C:/Users/opste/Downloads/haarcascade_mcs_nose.xml\")\n",
    "mouth_cascade = cv2.CascadeClassifier(\"C:/Users/opste/Downloads/haarcascade_mcs_mouth.xml\")\n",
    "\n",
    "faces_rect = face_cascade.detectMultiScale(gray_img, scaleFactor=1.1, minNeighbors=9, minSize=(30, 30))\n",
    "\n",
    "num_faces = len(faces_rect)\n",
    "\n",
    "for (x, y, w, h) in faces_rect:\n",
    "    cv2.rectangle(img, (x, y), (x+w, y+h), (0, 255, 0), 2)\n",
    "    cv2.putText(img, \"Face\", (x, y-10), cv2.FONT_HERSHEY_SIMPLEX, 0.5, (0, 255, 0), 2)\n",
    "\n",
    "    face_roi_gray = gray_img[y:y+h, x:x+w]\n",
    "    face_roi_color = img[y:y+h, x:x+w]\n",
    "\n",
    "    eyes = eye_cascade.detectMultiScale(face_roi_gray, 1.1, 10, minSize=(15, 15))\n",
    "    for (ex, ey, ew, eh) in eyes:\n",
    "        cv2.rectangle(face_roi_color, (ex, ey), (ex+ew, ey+eh), (255, 0, 0), 2)\n",
    "        cv2.putText(face_roi_color, \"Eye\", (ex, ey-5), cv2.FONT_HERSHEY_SIMPLEX, 0.4, (255, 0, 0), 1)\n",
    "\n",
    "\n",
    "    noses = nose_cascade.detectMultiScale(face_roi_gray, 1.1, 5, minSize=(20, 20))\n",
    "    for (nx, ny, nw, nh) in noses:\n",
    "        cv2.rectangle(face_roi_color, (nx, ny), (nx+nw, ny+nh), (0, 255, 255), 2)\n",
    "        cv2.putText(face_roi_color, \"Nose\", (nx, ny-5), cv2.FONT_HERSHEY_SIMPLEX, 0.4, (0, 255, 255), 1)\n",
    "        break\n",
    "\n",
    "    mouths = mouth_cascade.detectMultiScale(face_roi_gray, 1.1, 5, minSize=(30, 15))\n",
    "    for (mx, my, mw, mh) in mouths:\n",
    "        if my > h // 2:\n",
    "            cv2.rectangle(face_roi_color, (mx, my), (mx+mw, my+mh), (255, 0, 255), 2)\n",
    "            cv2.putText(face_roi_color, \"Mouth\", (mx, my-5), cv2.FONT_HERSHEY_SIMPLEX, 0.4, (255, 0, 255), 1)\n",
    "            break\n",
    "\n",
    "cv2.putText(img, f\"Student detected: {num_faces}\", (20, 50), cv2.FONT_HERSHEY_SIMPLEX, 1, (255, 0, 0), 3)\n",
    "\n",
    "cv2.imshow('Detection our group', img)\n",
    "cv2.waitKey(0)\n",
    "cv2.destroyAllWindows()"
   ]
  }
 ],
 "metadata": {
  "kernelspec": {
   "display_name": "Python 3 (ipykernel)",
   "language": "python",
   "name": "python3"
  },
  "language_info": {
   "codemirror_mode": {
    "name": "ipython",
    "version": 3
   },
   "file_extension": ".py",
   "mimetype": "text/x-python",
   "name": "python",
   "nbconvert_exporter": "python",
   "pygments_lexer": "ipython3",
   "version": "3.12.3"
  }
 },
 "nbformat": 4,
 "nbformat_minor": 5
}
